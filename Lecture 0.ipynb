{
 "cells": [
  {
   "cell_type": "markdown",
   "id": "9fdba82a",
   "metadata": {},
   "source": [
    "## Quantitative Risk Management: Lecture 0\n",
    "\n",
    "\n",
    "Very often in Finance, one has to consider the risk of making a decision... write introduction bullshit later\n",
    "\n",
    "0. **Course Outline**\n",
    "2. Types of data: Descripive and Inferential Statistics\n",
    "2. Statistical Distributions and Processes\n",
    "2. Monte Carlo Simulation \n",
    "2. Time Series Analysis\n",
    "2. Sources of Risk\n",
    "2. Risk Measures\n",
    "2. Risk Forecasting and Backtesting\n",
    "2. Extreme Value Theory\n",
    "2. Add-on I: Survival Analysis\n",
    "2.  Add-on II: Credibility Theory\n",
    "\n"
   ]
  },
  {
   "cell_type": "code",
   "execution_count": null,
   "id": "de0b7e19",
   "metadata": {},
   "outputs": [],
   "source": []
  }
 ],
 "metadata": {
  "kernelspec": {
   "display_name": "Python 3",
   "language": "python",
   "name": "python3"
  },
  "language_info": {
   "codemirror_mode": {
    "name": "ipython",
    "version": 3
   },
   "file_extension": ".py",
   "mimetype": "text/x-python",
   "name": "python",
   "nbconvert_exporter": "python",
   "pygments_lexer": "ipython3",
   "version": "3.8.8"
  }
 },
 "nbformat": 4,
 "nbformat_minor": 5
}
