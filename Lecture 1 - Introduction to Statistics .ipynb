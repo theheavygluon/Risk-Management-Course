{
 "cells": [
  {
   "cell_type": "markdown",
   "id": "fd43788b",
   "metadata": {},
   "source": [
    "# Lecture 1: Introduction to Statistics\n",
    "\n",
    "The title of this lecture might be misleading because whilst the content of this notebook shares a lot of content with intro stats courses, the manner and pace in which the content will be delivered assumes basic knowledge of the topic. A more appropriate title is \"A Quick Brush up on Statistics In the Context of Finance\". \n",
    "\n",
    "The main topics of discussion are the following:\n",
    "\n",
    " 1. Financial Data\n",
    " 2. Financial Returns\n",
    " 3. Statistical Variables\n",
    " 4. Sample Statistics\n",
    " 5. Two Dimensional Frequency Distributions\n",
    " 6. Measures of Association \n",
    " \n",
    "which should hopefully be a good start to the course.\n",
    "\n",
    "**Warning:** Throughout this notebook I will build custom functions to import data that may not be in line with the industry standard. One may even notice that I'm almost rushing through the content. This pace will be unique to this notebook as the future ones should be smoother and slower.\n"
   ]
  },
  {
   "cell_type": "code",
   "execution_count": 12,
   "id": "e4e0fb16",
   "metadata": {},
   "outputs": [],
   "source": [
    "#Importing standard libraries\n",
    "\n",
    "import numpy as np\n",
    "from matplotlib import pyplot as plt \n",
    "import scipy as sci\n",
    "import pandas as pd"
   ]
  },
  {
   "cell_type": "markdown",
   "id": "ddfb4c75",
   "metadata": {},
   "source": [
    "## Financial Data\n",
    "\n",
    "The datasets commonly used while solving financial problems are the following:\n",
    "\n",
    " - Stock Data\n",
    "     - stock prices: stocks don't have intrinsic \"prices\" but are rather defined as what one is willing to sell it for (ask) and what one is willing to buy it for (bid). Although if not specified, one is likely refering to the mid-price, which is defined by (bid + ask)/2 \n",
    "     - frequency: a given time period (intraday, daily, monthly)\n",
    "     \n",
    " - Balance Sheets\n",
    "     - Earnings Before Interest and Taxes (EBIT) / Return on Assets (ROA)\n",
    "     - assets (current assets, fixed assets)\n",
    " \n",
    " - Insurance Claims\n",
    "     - number of claims\n",
    "     - size of claims\n",
    " \n",
    " - Macroeconomic Variables\n",
    "     - interest rates\n",
    "     - GDP growth\n",
    "     \n",
    "\n",
    "While we will try to diversify examples and applications, the main focus will be on Stock Data. \n",
    "\n",
    "### Example 1: $BRK.A returns \n",
    "\n",
    "The following image represents the (log) returns of Berkshire Hathaway A Class stock from 2016 to 2021:\n",
    "\n",
    "\n",
    "<img src=\"assets/logreturnsbrka.png\" width=\"400px\">\n",
    "\n",
    "As one can see, the volatility of this stock (and every stock for that matter) is not constant. For example, Fig. 1 indicates that during early March 2020, the volatility of the $BRK.A spiked as we see extreme returns in both directions. This was due to the 2020 _crash_ and _correction_ which came as a result of the COVID 19 pandemic. \n",
    "\n",
    "The paragraph above is an example of a _stylized fact_, or a fact that one simply observes but cannot (or doesn't care to) explain. This is usually expressed as a general truth that ignores details, for example \"stocks tend to go up in the long term\", or \"volatility will constantly vary\" which we took from the $BRK.A example.\n",
    "\n",
    "\n",
    "### Example 2: BTC Trading Volume\n",
    "\n",
    "The following image represents the trading volume (in billions USD) of Bitcoin between 2020 and June 2022:\n",
    "\n",
    "<img src=\"assets/btcvolume.png\" width=\"400px\">\n",
    "\n",
    "\n",
    "Looking at Fig. 2, it is obvious that the trading volume of Bitcoin varies tremendously from period to period (in extreme examples, even day to day). This is important to study as a holder of Bitcoin, because one should plan to sell in a period of liquidity, to maximize your profits.\n",
    "\n",
    "\n",
    "### Example 3: Danish Fire Insurance Claims \n",
    "\n",
    "The following image represents the claim sizes (in millions of DKK) for fire insurance in Denmark between 1980 and 1990:\n",
    "\n",
    "\n",
    "<img src=\"assets/danishfire.png\" width=\"400px\">\n",
    "\n",
    "\n",
    "As one can see, in the case of Danish Fire insurance, there are periods where the claims are small and don't tend to fluctuate, but every once in a while, there is an outlier event which causes massive spikes (for example, ~August 1980). Such datasets require a totally different set of models to work with as compared to the first two examples.\n",
    "\n",
    "### Getting Equity Data in Python\n",
    "\n",
    "As mentioned above, we will be primarily focused on using stock data in this notebook. It was also mentioned that the standard \"stock price\" used when refering to daily data is the _closing mid-price_. The following is a demonstration of importing the closing mid-price of Google stock between Jan 1, 2016 and Dec 31, 2020."
   ]
  },
  {
   "cell_type": "code",
   "execution_count": 2,
   "id": "aaf6f750",
   "metadata": {},
   "outputs": [
    {
     "name": "stdout",
     "output_type": "stream",
     "text": [
      "$GOOG Stock Data:\n"
     ]
    },
    {
     "data": {
      "text/html": [
       "<div>\n",
       "<style scoped>\n",
       "    .dataframe tbody tr th:only-of-type {\n",
       "        vertical-align: middle;\n",
       "    }\n",
       "\n",
       "    .dataframe tbody tr th {\n",
       "        vertical-align: top;\n",
       "    }\n",
       "\n",
       "    .dataframe thead th {\n",
       "        text-align: right;\n",
       "    }\n",
       "</style>\n",
       "<table border=\"1\" class=\"dataframe\">\n",
       "  <thead>\n",
       "    <tr style=\"text-align: right;\">\n",
       "      <th></th>\n",
       "      <th>High</th>\n",
       "      <th>Low</th>\n",
       "      <th>Open</th>\n",
       "      <th>Close</th>\n",
       "      <th>Volume</th>\n",
       "      <th>Adj Close</th>\n",
       "    </tr>\n",
       "    <tr>\n",
       "      <th>Date</th>\n",
       "      <th></th>\n",
       "      <th></th>\n",
       "      <th></th>\n",
       "      <th></th>\n",
       "      <th></th>\n",
       "      <th></th>\n",
       "    </tr>\n",
       "  </thead>\n",
       "  <tbody>\n",
       "    <tr>\n",
       "      <th>2016-01-04</th>\n",
       "      <td>37.202999</td>\n",
       "      <td>36.562901</td>\n",
       "      <td>37.150002</td>\n",
       "      <td>37.091999</td>\n",
       "      <td>65456000</td>\n",
       "      <td>37.091999</td>\n",
       "    </tr>\n",
       "    <tr>\n",
       "      <th>2016-01-05</th>\n",
       "      <td>37.599998</td>\n",
       "      <td>36.931999</td>\n",
       "      <td>37.322498</td>\n",
       "      <td>37.129002</td>\n",
       "      <td>39014000</td>\n",
       "      <td>37.129002</td>\n",
       "    </tr>\n",
       "    <tr>\n",
       "      <th>2016-01-06</th>\n",
       "      <td>37.359001</td>\n",
       "      <td>36.445999</td>\n",
       "      <td>36.500000</td>\n",
       "      <td>37.181000</td>\n",
       "      <td>38940000</td>\n",
       "      <td>37.181000</td>\n",
       "    </tr>\n",
       "    <tr>\n",
       "      <th>2016-01-07</th>\n",
       "      <td>36.924999</td>\n",
       "      <td>35.952999</td>\n",
       "      <td>36.515499</td>\n",
       "      <td>36.319500</td>\n",
       "      <td>59274000</td>\n",
       "      <td>36.319500</td>\n",
       "    </tr>\n",
       "    <tr>\n",
       "      <th>2016-01-08</th>\n",
       "      <td>36.661499</td>\n",
       "      <td>35.650002</td>\n",
       "      <td>36.572498</td>\n",
       "      <td>35.723499</td>\n",
       "      <td>49018000</td>\n",
       "      <td>35.723499</td>\n",
       "    </tr>\n",
       "    <tr>\n",
       "      <th>...</th>\n",
       "      <td>...</td>\n",
       "      <td>...</td>\n",
       "      <td>...</td>\n",
       "      <td>...</td>\n",
       "      <td>...</td>\n",
       "      <td>...</td>\n",
       "    </tr>\n",
       "    <tr>\n",
       "      <th>2020-12-24</th>\n",
       "      <td>87.300003</td>\n",
       "      <td>86.455498</td>\n",
       "      <td>86.750000</td>\n",
       "      <td>86.942497</td>\n",
       "      <td>6936000</td>\n",
       "      <td>86.942497</td>\n",
       "    </tr>\n",
       "    <tr>\n",
       "      <th>2020-12-28</th>\n",
       "      <td>89.536400</td>\n",
       "      <td>87.316750</td>\n",
       "      <td>87.581749</td>\n",
       "      <td>88.804497</td>\n",
       "      <td>27860000</td>\n",
       "      <td>88.804497</td>\n",
       "    </tr>\n",
       "    <tr>\n",
       "      <th>2020-12-29</th>\n",
       "      <td>89.622002</td>\n",
       "      <td>87.804497</td>\n",
       "      <td>89.389503</td>\n",
       "      <td>87.935997</td>\n",
       "      <td>25988000</td>\n",
       "      <td>87.935997</td>\n",
       "    </tr>\n",
       "    <tr>\n",
       "      <th>2020-12-30</th>\n",
       "      <td>88.254753</td>\n",
       "      <td>86.279999</td>\n",
       "      <td>88.100502</td>\n",
       "      <td>86.975998</td>\n",
       "      <td>26122000</td>\n",
       "      <td>86.975998</td>\n",
       "    </tr>\n",
       "    <tr>\n",
       "      <th>2020-12-31</th>\n",
       "      <td>87.946503</td>\n",
       "      <td>86.771004</td>\n",
       "      <td>86.771004</td>\n",
       "      <td>87.594002</td>\n",
       "      <td>20238000</td>\n",
       "      <td>87.594002</td>\n",
       "    </tr>\n",
       "  </tbody>\n",
       "</table>\n",
       "<p>1259 rows × 6 columns</p>\n",
       "</div>"
      ],
      "text/plain": [
       "                 High        Low       Open      Close    Volume  Adj Close\n",
       "Date                                                                       \n",
       "2016-01-04  37.202999  36.562901  37.150002  37.091999  65456000  37.091999\n",
       "2016-01-05  37.599998  36.931999  37.322498  37.129002  39014000  37.129002\n",
       "2016-01-06  37.359001  36.445999  36.500000  37.181000  38940000  37.181000\n",
       "2016-01-07  36.924999  35.952999  36.515499  36.319500  59274000  36.319500\n",
       "2016-01-08  36.661499  35.650002  36.572498  35.723499  49018000  35.723499\n",
       "...               ...        ...        ...        ...       ...        ...\n",
       "2020-12-24  87.300003  86.455498  86.750000  86.942497   6936000  86.942497\n",
       "2020-12-28  89.536400  87.316750  87.581749  88.804497  27860000  88.804497\n",
       "2020-12-29  89.622002  87.804497  89.389503  87.935997  25988000  87.935997\n",
       "2020-12-30  88.254753  86.279999  88.100502  86.975998  26122000  86.975998\n",
       "2020-12-31  87.946503  86.771004  86.771004  87.594002  20238000  87.594002\n",
       "\n",
       "[1259 rows x 6 columns]"
      ]
     },
     "execution_count": 2,
     "metadata": {},
     "output_type": "execute_result"
    }
   ],
   "source": [
    "from pandas_datareader import data ## This import allows us to import stock price data from yahoo finance\n",
    "\n",
    "print('$GOOG Stock Data:')\n",
    "data.DataReader('GOOG','yahoo','2016-01-01','2020-12-31') # data.DataReader(ticker,'yahoo',startDate,endDate) \n",
    "\n"
   ]
  },
  {
   "cell_type": "markdown",
   "id": "bf5ecf56",
   "metadata": {},
   "source": [
    "#### Getting Specific Prices (High, Low, etc):"
   ]
  },
  {
   "cell_type": "code",
   "execution_count": 3,
   "id": "28c2bce2",
   "metadata": {},
   "outputs": [
    {
     "data": {
      "text/plain": [
       "Date\n",
       "2016-01-04    37.091999\n",
       "2016-01-05    37.129002\n",
       "2016-01-06    37.181000\n",
       "2016-01-07    36.319500\n",
       "2016-01-08    35.723499\n",
       "                ...    \n",
       "2020-12-24    86.942497\n",
       "2020-12-28    88.804497\n",
       "2020-12-29    87.935997\n",
       "2020-12-30    86.975998\n",
       "2020-12-31    87.594002\n",
       "Name: Adj Close, Length: 1259, dtype: float64"
      ]
     },
     "execution_count": 3,
     "metadata": {},
     "output_type": "execute_result"
    }
   ],
   "source": [
    "goog_price = data.DataReader('GOOG','yahoo','2016-01-01','2020-12-31')\n",
    "\n",
    "#For this demo, we'll get Adjusted Close values\n",
    "goog_adj_close = goog_price['Adj Close']\n",
    "\n",
    "goog_adj_close"
   ]
  },
  {
   "cell_type": "code",
   "execution_count": 4,
   "id": "b2367977",
   "metadata": {},
   "outputs": [],
   "source": [
    "#One can generalize the entire process by the following function\n",
    "\n",
    "def get_stock_price(ticker, start='2016-01-01', end='2020-12-31',price_type = 'Adj Close'):\n",
    "    return data.DataReader(ticker,'yahoo',start,end)[price_type]\n"
   ]
  },
  {
   "cell_type": "code",
   "execution_count": 5,
   "id": "f2911978",
   "metadata": {},
   "outputs": [
    {
     "data": {
      "text/plain": [
       "Text(0.5, 1.0, 'NFLX 2020 Stock Data')"
      ]
     },
     "execution_count": 5,
     "metadata": {},
     "output_type": "execute_result"
    },
    {
     "data": {
      "image/png": "[encoded data removed]",
      "text/plain": [
       "<Figure size 432x288 with 1 Axes>"
      ]
     },
     "metadata": {
      "needs_background": "light"
     },
     "output_type": "display_data"
    }
   ],
   "source": [
    "# For example, let's use the function above to plot $FB High and Low data throughout 2020\n",
    "\n",
    "fb_high = get_stock_price('NFLX','2020-01-01','2021-01-01','High')\n",
    "fb_low = get_stock_price('NFLX','2020-01-01','2021-01-01','Low')\n",
    "\n",
    "plt.plot(fb_high, color='red',label='$NFLX (High)')\n",
    "plt.plot(fb_low, color='blue',label='$NFLX (Low)')\n",
    "\n",
    "plt.legend()\n",
    "plt.title('NFLX 2020 Stock Data')"
   ]
  },
  {
   "cell_type": "markdown",
   "id": "1076569b",
   "metadata": {},
   "source": [
    "## Financial Returns\n",
    "\n",
    "\n",
    "Return: the amount of change an asset has experienced in a given timeframe (e.g \"my investment in $TSLA has given me a 20% return in the last 12 days\")\n",
    "\n",
    "When speaking about return, one typically means one of two things:\n",
    "\n",
    "1. Simple Returns: the change an asset experiences in $t \\rightarrow t'$. It is defined as:\n",
    "\n",
    "\\\n",
    "$$R_{t'} = \\frac{P_{t'} - P_{t}}{P_{t}}$$\n",
    "\n",
    "2. Log Returns, which are defined as\n",
    "\n",
    "\\\n",
    "$$r_{t'} = \\log{\\frac{P_{t'}}{P_t}} = \\log{(1 + R_{t'})}$$\n",
    "\n",
    "\n",
    " - Note: people tend to work with log returns because they're continuous.\n",
    " \n",
    " \n",
    " \n",
    "#### Advantage of Log Returns\n",
    "\n",
    "Say we define a period as the time between $t = i - 1$ and $t = i$, where $i \\in \\{1,2,\\dots, T\\}$. The log return between times $i - 1$ and $i$ (i.e 1 period) becomes $Y_i = \\log(P_i) - \\log(P_{i - 1})$. We can define $Y(T) as$\n",
    "\n",
    "$$Y(T) = \\log{\\frac{P_T}{P_0}}$$\n",
    "\n",
    "which we could rewrite as\n",
    "\n",
    "$$Y(T) = \\log{P_T} - \\log{P_{T-1}} + \\log{P_{T-1}} - \\log{P_{T-2}} + \\dots \\log{P_{1}} - \\log{P_{0}}$$\n",
    "\n",
    "$$= Y_T + Y_{T-1} + \\dots + Y_2 + Y_1$$\n",
    "\n",
    "$$ = \\sum_{i = 1}^T Y_i$$\n",
    "\n",
    "In other words, $Y(T)$, often called the _buy and hold return_ is equal to the sum of returns over each period. This property does not hold for simple returns. \n",
    "\n",
    "**Example:** Say you buy a stock today, and you define a period one day: the log return today is 5percent today, tomorrow 3percent  and then  -20 percent after tomorrow, the buy and hold return in this three day peroid is 3+5-20 = -15%\n",
    "\n",
    "### Log Return of a Stock In Python"
   ]
  },
  {
   "cell_type": "code",
   "execution_count": 6,
   "id": "e81d2de8",
   "metadata": {},
   "outputs": [
    {
     "data": {
      "text/plain": [
       "0.2738413550389493"
      ]
     },
     "execution_count": 6,
     "metadata": {},
     "output_type": "execute_result"
    }
   ],
   "source": [
    "## Function that gets the log return of a stock between startDate and endDate (not efficient)\n",
    "\n",
    "def log_return(ticker,startDate,endDate):\n",
    "    dataset = data.DataReader(ticker,'yahoo',startDate, endDate)['Adj Close']\n",
    "    return np.log(dataset[-1]/dataset[0])\n",
    "\n",
    "log_return('GOOG','2020-01-01','2020-12-01')"
   ]
  },
  {
   "cell_type": "code",
   "execution_count": 7,
   "id": "a4ffa822",
   "metadata": {},
   "outputs": [
    {
     "data": {
      "text/plain": [
       "0.2795963923006757"
      ]
     },
     "execution_count": 7,
     "metadata": {},
     "output_type": "execute_result"
    }
   ],
   "source": [
    "#Let's  break it into 3 equal periods and see if they add up to the same number above\n",
    "\n",
    "log_return('GOOG','2020-01-01','2020-04-01') + log_return('GOOG','2020-04-01','2020-08-01') + log_return('GOOG','2020-08-01','2020-12-01')\n"
   ]
  },
  {
   "cell_type": "markdown",
   "id": "9037cc6a",
   "metadata": {},
   "source": [
    " As you can see, both results are virtually equivalent"
   ]
  },
  {
   "cell_type": "markdown",
   "id": "9758a852",
   "metadata": {},
   "source": [
    "#### Advantage of simple returns\n",
    "\n",
    "We showed that the advantage of the log return is that given some period, the log return of that period is equivalent to the sum of log returns of the partitions of said period, and that this quality does not hold for simple returns. \n",
    "\n",
    "Simple Returns, however, are useful in another way: The simple return of a portfolio is equal to the weighted sum of the simple returns of the constituents of the portfolio.\n",
    "\n",
    "Say you have a portfolio $P$ consisting of $n$ assets with a weight vector $\\vec{w} = \\{w_1, w_2, \\dots, w_n\\}$ and a simple returns vector $\\vec{R} = \\{R_1, R_2, \\dots, R_n\\}$ where $w_i$ and $R_i$ represent the weight and simple return of the $i$-th asset in the portfolio, respectively. The simple return of the portfolio is then equivalent to\n",
    "\n",
    "$$R_P = \\sum_{i=1}^n w_i  R_i$$ \n",
    "\n",
    "$$ = \\vec{w} . \\vec{R}$$\n",
    "\n",
    "### Portfolio Simple Returns Calculator in Python"
   ]
  },
  {
   "cell_type": "code",
   "execution_count": 8,
   "id": "a4b28116",
   "metadata": {},
   "outputs": [
    {
     "data": {
      "text/plain": [
       "3.830434176245283"
      ]
     },
     "execution_count": 8,
     "metadata": {},
     "output_type": "execute_result"
    }
   ],
   "source": [
    "#Function that gets the simple return of a portfolio in a given period (HIGHLY INEFFICIENT)\n",
    "\n",
    "def portfolio_simple_return(equities, weights, startDate='2020-01-01',endDate='2021-01-01'):\n",
    "    returns = [] #Initializing the returns vector\n",
    "    for i in equities: \n",
    "        stock_data = data.DataReader(i,'yahoo',startDate, endDate)['Adj Close']\n",
    "        returns.append((stock_data[-1] - stock_data[0])/stock_data[0])\n",
    "    \n",
    "    return np.dot(returns, weights) #Dot product between return vector and weight vector\n",
    "\n",
    "\n",
    "#Getting the simple return of a 3 stock portfolio consisting of 25% google, 25% netflix and 50% tesla\n",
    "portfolio_simple_return(['GOOG','NFLX','TSLA'], [0.25,0.25,0.5])    "
   ]
  },
  {
   "cell_type": "markdown",
   "id": "c21df94b",
   "metadata": {},
   "source": [
    "## Statistical Variables:\n",
    "\n",
    " - Levels of Measurement: Classification of variables according to the nature of information they carry:\n",
    "     - Nominal Scale (eg gender)\n",
    "     - Ordinal Scale (eg grades)\n",
    "     - Interval Scale (eg temperature)\n",
    "     - Metric Scale (eg temperature)"
   ]
  },
  {
   "cell_type": "markdown",
   "id": "ec696fe8",
   "metadata": {},
   "source": [
    "## Sample Statistics\n",
    "\n",
    "Often when attempting to study a system, one would find that the population size is too large (for example, trying to study the relationship between IQ and SAT scores). A common method to get around this is to collect a random sample which is meant to represent the entire population. This is what is known as sample statistics and is very useful. For example, if one wants to test a roulette strategy, they can test it on 1000 games (that should hopefully be enough to realize that those _strategies_ are nonsense). \n",
    "\n",
    "### Basic Heads or Tails Sampling\n",
    "\n",
    "Here we want to simulate flipping a coin by using a random number generator. For this example we will use the `numpy.random` library. We will use the `randint()` function to generate a random boolean. We define 0 as Heads and 1 as Tails."
   ]
  },
  {
   "cell_type": "code",
   "execution_count": 9,
   "id": "bc0564ec",
   "metadata": {},
   "outputs": [
    {
     "name": "stdout",
     "output_type": "stream",
     "text": [
      "Result: ['T', 'H', 'T', 'H', 'H', 'H', 'H', 'H', 'H', 'H', 'T', 'H', 'T', 'T', 'H']\n",
      "% of H: 0.6666666666666666\n",
      "% of T: 0.3333333333333333\n",
      "% of H + % of T: 1.0\n"
     ]
    }
   ],
   "source": [
    "def coin_flip():\n",
    "    flip_result = np.random.randint(0,2) #generates either a 0 or 1 with 50/50 probability\n",
    "    if flip_result == 0:\n",
    "        return 'H'\n",
    "    else:\n",
    "        return 'T'\n",
    "    \n",
    "samples = [coin_flip() for i in range(15)] #Sampling the coinflip 15 times\n",
    "\n",
    "print('Result:', samples)\n",
    "print('% of H:', samples.count('H')/len(samples))\n",
    "print('% of T:', samples.count('T')/len(samples))\n",
    "print('% of H + % of T:', samples.count('H')/len(samples)+samples.count('T')/len(samples))"
   ]
  },
  {
   "cell_type": "markdown",
   "id": "3707a72a",
   "metadata": {},
   "source": [
    "### Useful Parameters in Sample Statistics:\n",
    "\n",
    "\n",
    "Say we have observe a variable $x$ a total of $n$ times (i.e we have a sample size of $n$), then we can say\n",
    "\n",
    "$x = \\{x_1, x_2, \\dots x_n\\}$\n",
    "\n",
    "To make sense of this data, one can get a set of statistical parameters such as averages and skewness measures. The following are the main examples:\n",
    "\n",
    "    - Median:\n",
    "    \n",
    "The median $x_{med}$ is defined as \n",
    "\n",
    "$$ x_{med}=   \\left\\{\n",
    "\\begin{array}{ll}\n",
    "      x_{(n+1)/2} & \\textrm{for odd n}  \\\\\n",
    "      x_{\\frac{1}{2}(x_{n/2} + x_{n/2 + 1})} & \\textrm{for even n}\\\\\n",
    "\\end{array} \n",
    "\\right.  $$\n",
    "\n",
    "\n",
    "    - Mean: \n",
    "    \n",
    "There are two main types of mean, the arithmetic mean, which is defined as follows:\n",
    "\n",
    "$$\\bar{x} = \\frac{1}{n}\\sum_{i=1}^n x_i$$\n",
    "\n",
    "And the geometric mean, which is defined as follows:\n",
    "\n",
    "$$\\bar{x}_{geom} = \\left(\\prod_{i = 1}^n x_i \\right)^{1/n}$$\n",
    "\n",
    "\n",
    "    - Range:\n",
    "\n",
    "The difference $x_n - x_1$\n",
    "\n",
    "    - Interquartile Range (defining the \"inner 50%\"):\n",
    "\n",
    "$$dQ = x_{0.75} - x_{0.25}$$\n",
    "\n",
    "\n",
    "    - Empirical Variance and Standard Deviation:\n",
    "    \n",
    " The variance of x is defined as \n",
    "\n",
    "$$\\sigma^2 = \\frac{1}{n-1}\\sum_{i=0}^n (x_i - \\hat{x})^2$$\n",
    "\n",
    "and the standard deviation is defined as\n",
    "\n",
    "$$\\sigma = \\sqrt{\\sigma^2}$$\n",
    "\n",
    "\n",
    "    - Sample Skewness: \n",
    "\n",
    "$${\\mu}^3 = \\frac{m_3}{\\sigma ^3}$$\n",
    "\n",
    "where $m_3 = \\frac{1}{n}\\sigma_{i=1}^n (x_i - \\hat{x})^3$\n",
    "\n",
    "\n",
    "\n",
    "    - Sample Kurtosis:\n",
    "\n",
    "$${\\mu}^4 = \\frac{m_4}{\\sigma ^4}$$\n",
    "\n",
    "where $m_4 = \\frac{1}{n}\\sigma_{i=1}^n (x_i - \\hat{x})^4$\n",
    "    \n",
    "\n",
    "\n",
    "I will assume prior knowledge of all these parameters, although if you need a proper definition, there are several resources online. \n",
    "\n",
    "\n",
    "### Python Implementation\n",
    "\n",
    "Note that all of these measures are simple to code up. In fact, I recommend building functions that map an input `list` to a `float` that represent these parameters. Although for breivity's sake I'll just use the ones on numpy and scipy.\n",
    "\n",
    "In this implementation, we are going to roll two dice and getting the sum of their results. For example, if we roll both dice and get a 1 and 3, then we will observe 4. We will collect 100000 samples and will try to guess the distribution of results. "
   ]
  },
  {
   "cell_type": "code",
   "execution_count": 16,
   "id": "0f67257e",
   "metadata": {},
   "outputs": [
    {
     "name": "stdout",
     "output_type": "stream",
     "text": [
      "Mean:  6.99463\n",
      "Median:  7.0\n",
      "Range:  10\n",
      "IQR: 4.0\n",
      "Variance: 5.798881163100001\n",
      "Standard Deviation:  2.4080866186871273\n",
      "Skewness:  -0.001686445044740522\n",
      "Kurtosis:  -0.6242832609299045\n"
     ]
    }
   ],
   "source": [
    "from scipy import stats as scistats #Importing scipy.stats -- will be useful\n",
    "\n",
    "def dice_flip(): \n",
    "    return np.random.randint(1,7) #Generating a random number between 1 and 6\n",
    "\n",
    "num_samples = 100000\n",
    "\n",
    "results = [dice_flip() + dice_flip() for i in range(num_samples)]#Rolling two dice and storing their sum 100,000 times\n",
    "\n",
    "print('Mean: ',np.mean(results)) #Getting mean\n",
    "print('Median: ',np.median(results))#Getting median\n",
    "print('Range: ', max(results) - min(results))#Getting range\n",
    "print('IQR:', np.percentile(results, 75) - np.percentile(results, 25))#Getting IQR\n",
    "print('Variance:', np.var(results))#Getting variance\n",
    "print('Standard Deviation: ', np.std(results))#Getting std dev\n",
    "print('Skewness: ', scistats.skew(results))#Getting skewness\n",
    "print('Kurtosis: ', scistats.kurtosis(results))#Getting kurtosis"
   ]
  },
  {
   "cell_type": "markdown",
   "id": "0e59a225",
   "metadata": {},
   "source": [
    "Now that we have our statistical parameters, we can try and analyze the dataset. First we can observe that the mean is virtualy equal to the median. We can also see that there is virtualy no skewness or kurtosis. A combination of both of those facts can lead us to believe that the results are normally distributed, and therefore follow the following model: $G(7,2.41)$ where $G(\\mu,\\sigma)$ is a Gaussian Distribution of mean $\\mu$ and std. dev. $\\sigma$. \n",
    "\n",
    "Of course this is a trivial example but serves as good \"motivation\" for the usage of statistics.\n",
    "\n",
    "\n",
    "The following is a histogram of plot of `results`, as well as a plot of $G(7,2.42)$, the model extracted from the data "
   ]
  },
  {
   "cell_type": "code",
   "execution_count": 17,
   "id": "123abd36",
   "metadata": {},
   "outputs": [
    {
     "data": {
      "text/plain": [
       "[<matplotlib.lines.Line2D at 0x124681d90>]"
      ]
     },
     "execution_count": 17,
     "metadata": {},
     "output_type": "execute_result"
    },
    {
     "data": {
      "image/png": "[encoded data removed]",
      "text/plain": [
       "<Figure size 432x288 with 1 Axes>"
      ]
     },
     "metadata": {
      "needs_background": "light"
     },
     "output_type": "display_data"
    }
   ],
   "source": [
    "from scipy.stats import norm\n",
    "\n",
    "plt.hist(results,11)\n",
    "\n",
    "x_model = np.linspace(2,12,10000)\n",
    "y_model = norm.pdf(x_model, 7, 2.41)*num_samples #Our Ansatz model\n",
    "plt.plot(x_model, y_model, 'k', linewidth=2)"
   ]
  },
  {
   "cell_type": "markdown",
   "id": "2a554579",
   "metadata": {},
   "source": [
    "A more formal way to test how \"normal\" a given distribution is could be the _Jarqu-Bera_ test, which uses the Kurtosis and Skewness of a given distribution to test for normality using the following eq:\n",
    "\n",
    "$$JB = \\frac{n}{6}\\left( S^2 + (K-3)^2\\right)$$\n",
    "\n",
    "where $JB \\in \\mathbb{R}^+$ is the test statistic, $n$ is the number of samples (degrees of freedom), $S$ is the Skewness of the distribution and $K$ is the Kurtosis. A large value of JB indicates that the distribution is not normal\n",
    "\n",
    "### Python Implementation\n",
    "\n",
    "\n",
    "Here we'll use the dataset above, which is stored in the list `results`"
   ]
  },
  {
   "cell_type": "code",
   "execution_count": 18,
   "id": "dda3d520",
   "metadata": {},
   "outputs": [
    {
     "name": "stdout",
     "output_type": "stream",
     "text": [
      "JB =  0.6789958470222006\n",
      "p-value =  0.7121277756339978\n",
      "\n",
      "As you can see, the p-value is significantly greater than 5% meaning that we can accept the hyptothesis that results is roughly normal\n"
     ]
    }
   ],
   "source": [
    "jarqe_bera_test = sci.stats.jarque_bera(np.histogram(results,11)[0])\n",
    "\n",
    "print('JB = ',jarqe_bera_test.statistic)\n",
    "print('p-value = ', jarqe_bera_test.pvalue)\n",
    "print('')\n",
    "print('As you can see, the p-value is significantly greater than 5% meaning that we can accept the hyptothesis that results is roughly normal')"
   ]
  },
  {
   "cell_type": "markdown",
   "id": "42ca6829",
   "metadata": {},
   "source": [
    "Note: there exist better normality tests. \n",
    "\n",
    "<hr>\n",
    "\n",
    "## Quick Aside: \n",
    "\n",
    "There are a plathora of plots one can consider using to present their data in finance. The following is a good reference for the most commonly used ones: [click here](https://www.cfainstitute.org/en/membership/professional-development/refresher-readings/organizing-visualizing-and-describing-data).\n",
    "\n",
    "\n",
    "One might find [Seaborn](https://seaborn.pydata.org/), a python library that makes plotting advanced figures as simple as a single line of code, helpful. I whipped up a quick [jupyter notebook](https://github.com/theheavygluon/Risk-Management-Course/blob/main/Seaborn_Stuff.pdf) which you can use as a reference (although the resources on their official site are great).\n",
    "\n",
    "<hr>\n"
   ]
  },
  {
   "cell_type": "markdown",
   "id": "9bed17cf",
   "metadata": {},
   "source": [
    "## Two dimensional data\n",
    "\n",
    "Up until now, all of the data we've dealt with is unidimensional (e.g stock prices, results of rolling a dice 10000 times, ect). In finance (and beyond), there are several cases where this is not the case. You could have any number of dimensions to represent data. In the case where the data is 2D (e.g \\\\$MARA returns vs \\\\$RIOT returns, where \\\\$MARA  and \\\\$RIOT are both crypto mining companies). Graphically, one can represent 2D data in the following ways:\n",
    "\n",
    "1. Scatter-plots\n",
    "2. Contingency table\n",
    "3. Box Plot\n",
    "4. K0-plot\n",
    "\n",
    "And several more. \n",
    "\n",
    "Here I've coded up a few examples.\n",
    "\n",
    "\n",
    "#### Scatter Plot:\n",
    "\n",
    "The following block implements a scatterplot between \\\\$MARA prices and \\\\$RIOT (two companies that basically do the same thing)"
   ]
  },
  {
   "cell_type": "code",
   "execution_count": 45,
   "id": "d816abab",
   "metadata": {},
   "outputs": [
    {
     "data": {
      "text/plain": [
       "<matplotlib.legend.Legend at 0x13120c5e0>"
      ]
     },
     "execution_count": 45,
     "metadata": {},
     "output_type": "execute_result"
    },
    {
     "data": {
      "image/png": "[encoded data removed]",
      "text/plain": [
       "<Figure size 432x288 with 1 Axes>"
      ]
     },
     "metadata": {
      "needs_background": "light"
     },
     "output_type": "display_data"
    }
   ],
   "source": [
    "mara = get_stock_price('MARA','01-01-2020','01-01-2022') #MARA prices\n",
    "riot = get_stock_price('RIOT','01-01-2020','01-01-2022') #RIOT prices\n",
    "\n",
    "plt.scatter(mara,riot, color='green',label='\\$MARA vs. \\$RIOT')#Scatter plot. Everything after this line is for design\n",
    "plt.xlabel('\\$MARA')\n",
    "plt.ylabel('\\$RIOT')\n",
    "plt.legend()"
   ]
  },
  {
   "cell_type": "markdown",
   "id": "db4a7376",
   "metadata": {},
   "source": [
    "#### Contingency table:\n",
    "\n",
    "The following block implements a Contingency table for a dataset that shows information for 20 different product orders, including the type of product purchased (TV, computer, or radio) along with the country (A, B, or C) that the product was purchased in."
   ]
  },
  {
   "cell_type": "code",
   "execution_count": 48,
   "id": "be5382ae",
   "metadata": {},
   "outputs": [
    {
     "data": {
      "text/html": [
       "<div>\n",
       "<style scoped>\n",
       "    .dataframe tbody tr th:only-of-type {\n",
       "        vertical-align: middle;\n",
       "    }\n",
       "\n",
       "    .dataframe tbody tr th {\n",
       "        vertical-align: top;\n",
       "    }\n",
       "\n",
       "    .dataframe thead th {\n",
       "        text-align: right;\n",
       "    }\n",
       "</style>\n",
       "<table border=\"1\" class=\"dataframe\">\n",
       "  <thead>\n",
       "    <tr style=\"text-align: right;\">\n",
       "      <th>Product</th>\n",
       "      <th>Comp</th>\n",
       "      <th>Radio</th>\n",
       "      <th>TV</th>\n",
       "      <th>All</th>\n",
       "    </tr>\n",
       "    <tr>\n",
       "      <th>Country</th>\n",
       "      <th></th>\n",
       "      <th></th>\n",
       "      <th></th>\n",
       "      <th></th>\n",
       "    </tr>\n",
       "  </thead>\n",
       "  <tbody>\n",
       "    <tr>\n",
       "      <th>A</th>\n",
       "      <td>1</td>\n",
       "      <td>0</td>\n",
       "      <td>3</td>\n",
       "      <td>4</td>\n",
       "    </tr>\n",
       "    <tr>\n",
       "      <th>B</th>\n",
       "      <td>3</td>\n",
       "      <td>2</td>\n",
       "      <td>3</td>\n",
       "      <td>8</td>\n",
       "    </tr>\n",
       "    <tr>\n",
       "      <th>C</th>\n",
       "      <td>2</td>\n",
       "      <td>3</td>\n",
       "      <td>3</td>\n",
       "      <td>8</td>\n",
       "    </tr>\n",
       "    <tr>\n",
       "      <th>All</th>\n",
       "      <td>6</td>\n",
       "      <td>5</td>\n",
       "      <td>9</td>\n",
       "      <td>20</td>\n",
       "    </tr>\n",
       "  </tbody>\n",
       "</table>\n",
       "</div>"
      ],
      "text/plain": [
       "Product  Comp  Radio  TV  All\n",
       "Country                      \n",
       "A           1      0   3    4\n",
       "B           3      2   3    8\n",
       "C           2      3   3    8\n",
       "All         6      5   9   20"
      ]
     },
     "execution_count": 48,
     "metadata": {},
     "output_type": "execute_result"
    }
   ],
   "source": [
    "#Source: https://www.statology.org/contingency-table-python/\n",
    "\n",
    "#create data\n",
    "df = pd.DataFrame({'Order': [1, 2, 3, 4, 5, 6, 7, 8, 9, 10,\n",
    "                            11, 12, 13, 14, 15, 16, 17, 18, 19, 20],\n",
    "                   'Product': ['TV', 'TV', 'Comp', 'TV', 'TV', 'Comp',\n",
    "                               'Comp', 'Comp', 'TV', 'Radio', 'TV', 'Radio', 'Radio',\n",
    "                               'Radio', 'Comp', 'Comp', 'TV', 'TV', 'Radio', 'TV'],\n",
    "                   'Country': ['A', 'A', 'A', 'A', 'B', 'B', 'B', 'B', 'B', 'B', 'B',\n",
    "                               'B', 'C', 'C', 'C', 'C', 'C', 'C', 'C', 'C']})\n",
    "#contingency table\n",
    "\n",
    "pd.crosstab(index=df['Country'], columns=df['Product'], margins=True)"
   ]
  },
  {
   "cell_type": "markdown",
   "id": "530eaeb0",
   "metadata": {},
   "source": [
    "#### Box Plot: \n",
    "\n",
    "The following block implements a boxplot for random numpy-generated data"
   ]
  },
  {
   "cell_type": "code",
   "execution_count": 72,
   "id": "51fdb114",
   "metadata": {},
   "outputs": [
    {
     "data": {
      "image/png": "[encoded data removed]",
      "text/plain": [
       "<Figure size 432x288 with 1 Axes>"
      ]
     },
     "metadata": {
      "needs_background": "light"
     },
     "output_type": "display_data"
    }
   ],
   "source": [
    "#Source: https://pandas.pydata.org/docs/reference/api/pandas.DataFrame.boxplot.html\n",
    "\n",
    "np.random.seed(1234)\n",
    "df = pd.DataFrame(np.random.randn(10, 3),\n",
    "                  columns=['Col1', 'Col2', 'Col3'])\n",
    "\n",
    "boxplot = df.boxplot(column=['Col1', 'Col2'])  "
   ]
  },
  {
   "cell_type": "markdown",
   "id": "59335b09",
   "metadata": {},
   "source": [
    "### Correlation\n",
    "\n",
    "Say one has datasets $X$ and $Y$, the _correlation_ is essentially a measure of how one dataset moves with respect to the other (or rather how strong their relationship is). It is usually represented by $r \\in (-1,1)$, a metric called the _Bravais-Pearson_ coeffecient which is very commonly used to represent correlation. It is defined as follows:\n",
    "\n",
    "$$r_{XY} = \\frac{\\sum_{i = 1}^n (x_i - \\hat{x})(y_i - \\hat{y})}{\\sqrt{\\sum_{i = 1}^n (x_i - \\hat{x})^2}\\sqrt{\\sum_{i = 1}^n (y_i - \\hat{y})^2}} = \\frac{\\sigma_{XY}}{\\sigma_X * \\sigma_Y}$$\n",
    "\n",
    "where $\\sigma_{XY}$ denotes the empirical covariance, and $\\sigma_{\\mu}$ denotes the empirical standard deviation of some dataset $\\mu$.\n",
    "\n",
    "A -1 correlation indicates that two datasets are perfectly correlated but in opposing directions (as $X$ increases, $Y$ decreases proportionally). A +1 correlation indicates that two datasets are perfectly correlated in the same direction (as $X$ increases, $Y$ increases proportionally). A 0 correlation means that the two given datasets are completely independent of one another (i.e the movement of $X$ gives 0 prediction power over the movement of $Y$)\n",
    "\n",
    "#### Python Implementation \n",
    "\n",
    "Looking back at the scatterplot, one can find that I use MARA and RIOT as an example. I state that they are two crypto mining companies that do roughly the same thing. For this reason, their stock prices are likely to react similarly to various catalysts (e.g a surge in BTC mining interest) and even have very similar fundamentals. For this reason, one could assume that they are highly correlated assets. Let's use scipy to find out"
   ]
  },
  {
   "cell_type": "code",
   "execution_count": 74,
   "id": "06deb18b",
   "metadata": {},
   "outputs": [
    {
     "data": {
      "text/plain": [
       "0.8884162228188631"
      ]
     },
     "execution_count": 74,
     "metadata": {},
     "output_type": "execute_result"
    }
   ],
   "source": [
    "scistats.pearsonr(mara,riot)[0] ##Getting the correlation coefficient (MARA,RIOT)"
   ]
  },
  {
   "cell_type": "markdown",
   "id": "1b1c0c43",
   "metadata": {},
   "source": [
    "As you can see, they are highly correlated!"
   ]
  },
  {
   "cell_type": "markdown",
   "id": "e8f0d713",
   "metadata": {},
   "source": [
    "## TOPICS LEFT\n",
    "\n",
    "- Maximum Likelihood Estimation\n",
    "- Linear and Generalized Linear Model\n",
    "- Machine Learning"
   ]
  },
  {
   "cell_type": "markdown",
   "id": "f1252cd3",
   "metadata": {},
   "source": [
    "# "
   ]
  },
  {
   "cell_type": "code",
   "execution_count": 64,
   "id": "cbd0acc1",
   "metadata": {},
   "outputs": [],
   "source": [
    "np.random.seed?"
   ]
  },
  {
   "cell_type": "code",
   "execution_count": null,
   "id": "3de5b08f",
   "metadata": {},
   "outputs": [],
   "source": []
  }
 ],
 "metadata": {
  "kernelspec": {
   "display_name": "Python 3",
   "language": "python",
   "name": "python3"
  },
  "language_info": {
   "codemirror_mode": {
    "name": "ipython",
    "version": 3
   },
   "file_extension": ".py",
   "mimetype": "text/x-python",
   "name": "python",
   "nbconvert_exporter": "python",
   "pygments_lexer": "ipython3",
   "version": "3.8.8"
  }
 },
 "nbformat": 4,
 "nbformat_minor": 5
}
