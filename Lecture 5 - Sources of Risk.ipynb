{
 "cells": [
  {
   "cell_type": "markdown",
   "id": "4f705652",
   "metadata": {},
   "source": [
    "# Lecture 5: Sources of Risk\n",
    "\n",
    "[intro statement] \n",
    "\n",
    "The main topics of discussion are:\n",
    "\n",
    " 1. Fundamental Risk Factors\n",
    " 2. Risk Mapping\n",
    " \n",
    "\n"
   ]
  },
  {
   "cell_type": "code",
   "execution_count": 1,
   "id": "629e78f7",
   "metadata": {},
   "outputs": [],
   "source": [
    "#Importing standard libraries\n",
    "\n",
    "\n",
    "import numpy as np\n",
    "from matplotlib import pyplot as plt \n",
    "import scipy as sci\n",
    "import pandas as pd"
   ]
  },
  {
   "cell_type": "markdown",
   "id": "d47ca2e7",
   "metadata": {},
   "source": [
    "risks are kinda risky,\n",
    "\n",
    "thank you."
   ]
  },
  {
   "cell_type": "code",
   "execution_count": null,
   "id": "2d6a739c",
   "metadata": {},
   "outputs": [],
   "source": []
  }
 ],
 "metadata": {
  "kernelspec": {
   "display_name": "Python 3",
   "language": "python",
   "name": "python3"
  },
  "language_info": {
   "codemirror_mode": {
    "name": "ipython",
    "version": 3
   },
   "file_extension": ".py",
   "mimetype": "text/x-python",
   "name": "python",
   "nbconvert_exporter": "python",
   "pygments_lexer": "ipython3",
   "version": "3.8.8"
  }
 },
 "nbformat": 4,
 "nbformat_minor": 5
}
