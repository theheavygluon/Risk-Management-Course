{
 "cells": [
  {
   "cell_type": "markdown",
   "id": "3b7c704f",
   "metadata": {},
   "source": [
    "# Lecture 5: Sources of Risk\n",
    "\n",
    "Previously we covered time series analysis and how it can be used to perform techniques like volatility forecasting and modeling stocks prices. We will now shift towards describing the sources of risk, which is heavily dependent on the notion of a probability space. \n",
    "\n",
    "The main topics of discussion are:\n",
    "\n",
    " 1. Probability Spaces\n",
    " 2. Fundamental Risk Factors\n",
    " 3. Risk Mapping\n",
    " \n",
    "\n"
   ]
  },
  {
   "cell_type": "code",
   "execution_count": 29,
   "id": "fcb42467",
   "metadata": {},
   "outputs": [],
   "source": [
    "#Importing standard libraries\n",
    "\n",
    "\n",
    "import numpy as np\n",
    "from matplotlib import pyplot as plt \n",
    "import scipy as sci\n",
    "import pandas as pd"
   ]
  },
  {
   "cell_type": "markdown",
   "id": "3446ed90",
   "metadata": {},
   "source": [
    "## Probability Spaces\n",
    "\n",
    "Before discussing fundamental risk factors, it is important to first define a probability space, or a mathematical object that is formally defined by a three-tuple \n",
    "\n",
    "($\\mathbf{\\Omega}, \\mathcal{F}, \\mathbb{P}$), where\n",
    "\n",
    " 1. $\\mathbf{\\Omega}$ is the sample space, or the set of all possible outcomes of a random experiment\n",
    " 2. $\\mathcal{F}$ is the event space also called $\\sigma$-algebra, or a subset of the superset of $\\mathbf{\\Omega}$\n",
    " 3. $\\mathbb{P}: \\mathcal{F} \\rightarrow [0,1]$ is a probability function that assigns a number between 0 and 1 to any event. \n",
    " \n",
    "\n",
    "For example, consider a fair dice. Its sample space $\\mathbf{\\Omega}$ is $\\{1,2,3,4,5,6\\}$. One could define the $\\sigma$-algebra to be the set of all subsets of $\\mathbf{\\Omega}$ which contains elements such as $\\{5\\}$ and $\\{2,4,6\\}$ (all possible even outcomes). The probability function $\\mathbb{P}$ then maps such elements to their respective probability of occurence, eg. $\\{5\\} \\rightarrow 1/6$ and $\\{2,4,6\\} \\rightarrow 3/6 = 1/2$.\n",
    "\n",
    "Such a construct, equipped with a set of axioms called the probability axioms build up to probability theory."
   ]
  },
  {
   "cell_type": "markdown",
   "id": "35a38945",
   "metadata": {},
   "source": [
    "## Fundamental Risk Factors\n",
    "\n",
    "A good starting point for describing risk sources is by looking at fundamental risk factors such as interest rates and market movements as well as how we can use them to build a risk model. We describe future enviromental conditions by a value as a function of a future time-point $V(s)$, which acts as a random variable in a probability space $(\\mathbf{\\Omega}, \\mathcal{F}, \\mathbb{P})$.\n",
    "\n",
    "\n",
    "Given a time horizon $\\Delta$ (e.g 1 day), the loss of an investment in the period $[s, s + \\Delta]$ is given by the loss function \n",
    "\n",
    "$$L_{[s, s+ \\Delta]} = -(V(s + \\Delta) - V(s))$$\n",
    "\n",
    "where $V(s + \\Delta)$ is the future value and $V(s)$ is the present value. \n",
    "\n",
    "\n",
    "The loss $L_{[s, s + \\Delta]}$ at time $s+\\Delta$ is simply observable (i.e not stochastic), although at time $s$ it is not observable, meaning we need to treat it as an _unconditional_ loss distribution, which assumes we dont have all information up to time $s$. So we can describe what is commonly called the P/L Distribution as $V(s + \\Delta) - V(s)$ which is essentally $rv - L_{[s,s+\\Delta]}$ where $rv$ denotes random variable and $L_{[s,s+\\Delta]}$ denotes a loss distribution. \n",
    "\n",
    "\n",
    "Although in Risk Management, one is usually only concerned with the losses (i.e an insurance business cannot profit from car thefts), so we concern ourselves with only negative values of asset change.\n",
    "\n",
    "By assuming equidistant time periods, one can reduce $L_{[s,s + \\Delta]}$ to $L_{t+1}$ where\n",
    "\n",
    "$$L_{t+1} = -(V(t+1) - V(t))$$\n",
    "\n",
    "For example when we look at the daily losses of a position or portfolio, we set $\\Delta = 1/365$ (e.g FX) or $\\Delta = 1/252$ (e.g equities) or various other Day count conventions that factor in things like holidays and leap years.\n",
    "\n",
    "\n",
    "Note that values $V_t$ and $V_{t+1}$ denotes random variables that model the value of a portfolio at $t$ and $t+1$ respectively, whilst $L_{t+1}$ denotes the loss occured from $t$ to $t+1$. Given a scenario with $d$ risk factors taken into account, $V_t$ will be a random variable as a function of time and $\\vec{Z_t}$, a $d$-dimensional random vector which encompasses all risk factors, i.e\n",
    "\n",
    "$$V_t: \\mathbb{R}^+ \\times \\mathbb{R}^d \\rightarrow \\mathbb{R}: = f(t, \\vec{Z_t})$$\n",
    "\n",
    "\n",
    "The form of $V_t(t, \\vec{Z_t})$ be as simple as return $\\times$ investment value, but could also get very complicated as one introduces instruments such as options. Common risk factors include interest rates, exchange rates, commodity prices and economic ratios. The mapping of such factors to a value function $V_t$ is called risk mapping, which will be covered in more detail in the next section.\n",
    "\n",
    "#### Python Implementation"
   ]
  },
  {
   "cell_type": "code",
   "execution_count": 381,
   "id": "791a7cdc",
   "metadata": {},
   "outputs": [],
   "source": [
    "###Think of something -- at this point this might as well be a pdf"
   ]
  },
  {
   "cell_type": "markdown",
   "id": "d9ee33e9",
   "metadata": {},
   "source": [
    "## Risk Mapping\n",
    "\n",
    "As described above, given a set of risk factors $\\vec{Z_t} = \\begin{pmatrix}Z_{t1} \\\\ \\vdots \\\\ Z_{td}\\end{pmatrix}$ at time $t$, the goal of risk mapping is to define a function $f(t, \\vec{Z_t})$ that outputs a random variable called the value, $V_t$. We can then represent a loss $L_{t+1}$ as\n",
    "\n",
    "$$L_{t+1} = -(f(t+1, \\vec{Z}_{t+1} + \\vec{X}_{t+1}) - f(t, \\vec{Z}_t))$$\n",
    "\n",
    "where $(\\vec{X}_t)_{t \\in \\mathbb{N}}$ is defined as the process of changes of risk factors, $\\vec{X}_t  =\\vec{Z}_{t+ 1} - \\vec{Z}_t$. Since $\\vec{Z}_t$ is known at time $t$, then the loss distribution is determined soley by the distribution of changes $X_{t+1}$. Given that, we can define a _loss operator_ $l_{[t]}: \\mathbb{R}^d \\rightarrow \\mathbb{R}$ which takes the following form:\n",
    "\n",
    "$$l_{[t]}(\\vec{x}) = -(f(t+1, \\vec{Z}_{t+1} + \\vec{x}) - f(t, \\vec{Z}_t))$$\n",
    "\n",
    "where $\\vec{x} \\in \\mathbb{R}^d$ is some $d$-dimensional vector. Using this definition, we define the loss function as $l_{[t]}(\\vec{X}_{t+1})$\n",
    "\n",
    "<hr>\n",
    "\n",
    "\n",
    "Up until this point, we have made no assumptions or statements about the _mapping_ $f(t,\\vec{Z}_{t})$. Although, under the assumption that it is differentiable, one can define a [linear approximation](https://web.ma.utexas.edu/users/m408n/CurrentWeb/LM3-10-2.php#:~:text=Derivatives%20can%20be%20used%20to,(a)x%E2%88%92a.&text=whenever%20x%20is%20close%20to%20a.,linearization%20of%20f(x)) to the loss function $L^\\Delta_{t+1}$ as\n",
    "\n",
    "$$L^\\Delta_{t+1} = -\\left(\\frac{\\partial f}{\\partial t} + \\sum_{i=1}^d \\frac{\\partial f}{\\partial z_i}X_{t+1, i}\\right) $$\n",
    "\n",
    "\n",
    "which, similarly to what has done above, can be turned into the _linearized loss operator_ defined by\n",
    "\n",
    "$$l^\\Delta_{[t]}(\\vec{x}) = -\\left(\\frac{\\partial f}{\\partial t} + \\sum_{i=1}^d \\frac{\\partial f}{\\partial z_i}x_{ i}\\right)$$\n",
    "\n",
    "Given that these are based on linear approximations, one can easily show that for linear mappings $f^{''} = 0$, it is exact and for highly non-linear mappings, it is a bad approximation. \n",
    "\n",
    "\n",
    "### Example: Stock Portfolio\n",
    "\n",
    "\n"
   ]
  },
  {
   "cell_type": "code",
   "execution_count": null,
   "id": "2d6bbd58",
   "metadata": {},
   "outputs": [],
   "source": []
  }
 ],
 "metadata": {
  "kernelspec": {
   "display_name": "Python 3",
   "language": "python",
   "name": "python3"
  },
  "language_info": {
   "codemirror_mode": {
    "name": "ipython",
    "version": 3
   },
   "file_extension": ".py",
   "mimetype": "text/x-python",
   "name": "python",
   "nbconvert_exporter": "python",
   "pygments_lexer": "ipython3",
   "version": "3.8.8"
  }
 },
 "nbformat": 4,
 "nbformat_minor": 5
}
