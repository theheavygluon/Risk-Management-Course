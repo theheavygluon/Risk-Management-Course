{
 "cells": [
  {
   "cell_type": "markdown",
   "id": "29fe63be",
   "metadata": {},
   "source": [
    "# Lecture 8: Extreme Value Theory\n",
    "\n",
    "[intro message]\n",
    "\n",
    "The main topics of discussion are the following:\n",
    "\n",
    " 1. Introduction\n",
    " 2. Block Maxima Method\n",
    " 3. Threshold Exceedances\n",
    " 4. Estimation of Risk based on Extreme Value Theory\n",
    " \n"
   ]
  },
  {
   "cell_type": "code",
   "execution_count": 1,
   "id": "ff63ef41",
   "metadata": {},
   "outputs": [],
   "source": [
    "#Importing standard libraries\n",
    "\n",
    "import numpy as np\n",
    "from matplotlib import pyplot as plt \n",
    "import scipy as sci\n",
    "import pandas as pd"
   ]
  },
  {
   "cell_type": "code",
   "execution_count": null,
   "id": "257d90c9",
   "metadata": {},
   "outputs": [],
   "source": []
  }
 ],
 "metadata": {
  "kernelspec": {
   "display_name": "Python 3",
   "language": "python",
   "name": "python3"
  },
  "language_info": {
   "codemirror_mode": {
    "name": "ipython",
    "version": 3
   },
   "file_extension": ".py",
   "mimetype": "text/x-python",
   "name": "python",
   "nbconvert_exporter": "python",
   "pygments_lexer": "ipython3",
   "version": "3.8.8"
  }
 },
 "nbformat": 4,
 "nbformat_minor": 5
}
